{
 "cells": [
  {
   "cell_type": "markdown",
   "id": "ce15c90d",
   "metadata": {
    "papermill": {
     "duration": 0.011256,
     "end_time": "2021-08-16T22:10:24.789982",
     "exception": false,
     "start_time": "2021-08-16T22:10:24.778726",
     "status": "completed"
    },
    "tags": []
   },
   "source": [
    "**This notebook is an exercise in the [Introduction to Machine Learning](https://www.kaggle.com/learn/intro-to-machine-learning) course.  You can reference the tutorial at [this link](https://www.kaggle.com/dansbecker/underfitting-and-overfitting).**\n",
    "\n",
    "---\n"
   ]
  },
  {
   "cell_type": "markdown",
   "id": "a31c1ffe",
   "metadata": {
    "papermill": {
     "duration": 0.009839,
     "end_time": "2021-08-16T22:10:24.812896",
     "exception": false,
     "start_time": "2021-08-16T22:10:24.803057",
     "status": "completed"
    },
    "tags": []
   },
   "source": [
    "## Recap\n",
    "You've built your first model, and now it's time to optimize the size of the tree to make better predictions. Run this cell to set up your coding environment where the previous step left off."
   ]
  },
  {
   "cell_type": "code",
   "execution_count": 1,
   "id": "a7bcee6e",
   "metadata": {
    "execution": {
     "iopub.execute_input": "2021-08-16T22:10:24.850333Z",
     "iopub.status.busy": "2021-08-16T22:10:24.849671Z",
     "iopub.status.idle": "2021-08-16T22:10:26.190056Z",
     "shell.execute_reply": "2021-08-16T22:10:26.190617Z",
     "shell.execute_reply.started": "2021-08-16T21:38:37.728864Z"
    },
    "papermill": {
     "duration": 1.367727,
     "end_time": "2021-08-16T22:10:26.190917",
     "exception": false,
     "start_time": "2021-08-16T22:10:24.823190",
     "status": "completed"
    },
    "tags": []
   },
   "outputs": [
    {
     "name": "stdout",
     "output_type": "stream",
     "text": [
      "Validation MAE: 29,653\n",
      "\n",
      "Setup complete\n"
     ]
    }
   ],
   "source": [
    "# Code you have previously used to load data\n",
    "import pandas as pd\n",
    "from sklearn.metrics import mean_absolute_error\n",
    "from sklearn.model_selection import train_test_split\n",
    "from sklearn.tree import DecisionTreeRegressor\n",
    "\n",
    "\n",
    "# Path of the file to read\n",
    "iowa_file_path = '../input/home-data-for-ml-course/train.csv'\n",
    "\n",
    "home_data = pd.read_csv(iowa_file_path)\n",
    "# Create target object and call it y\n",
    "y = home_data.SalePrice\n",
    "# Create X\n",
    "features = ['LotArea', 'YearBuilt', '1stFlrSF', '2ndFlrSF', 'FullBath', 'BedroomAbvGr', 'TotRmsAbvGrd']\n",
    "X = home_data[features]\n",
    "\n",
    "# Split into validation and training data\n",
    "train_X, val_X, train_y, val_y = train_test_split(X, y, random_state=1)\n",
    "\n",
    "# Specify Model\n",
    "iowa_model = DecisionTreeRegressor(random_state=1)\n",
    "# Fit Model\n",
    "iowa_model.fit(train_X, train_y)\n",
    "\n",
    "# Make validation predictions and calculate mean absolute error\n",
    "val_predictions = iowa_model.predict(val_X)\n",
    "val_mae = mean_absolute_error(val_predictions, val_y)\n",
    "print(\"Validation MAE: {:,.0f}\".format(val_mae))\n",
    "\n",
    "# Set up code checking\n",
    "from learntools.core import binder\n",
    "binder.bind(globals())\n",
    "from learntools.machine_learning.ex5 import *\n",
    "print(\"\\nSetup complete\")"
   ]
  },
  {
   "cell_type": "markdown",
   "id": "e23d3a2c",
   "metadata": {
    "papermill": {
     "duration": 0.010149,
     "end_time": "2021-08-16T22:10:26.211862",
     "exception": false,
     "start_time": "2021-08-16T22:10:26.201713",
     "status": "completed"
    },
    "tags": []
   },
   "source": [
    "# Exercises\n"
   ]
  },
  {
   "cell_type": "code",
   "execution_count": 2,
   "id": "28b89f07",
   "metadata": {
    "execution": {
     "iopub.execute_input": "2021-08-16T22:10:26.236113Z",
     "iopub.status.busy": "2021-08-16T22:10:26.235455Z",
     "iopub.status.idle": "2021-08-16T22:10:26.240990Z",
     "shell.execute_reply": "2021-08-16T22:10:26.240377Z",
     "shell.execute_reply.started": "2021-08-16T21:40:13.767655Z"
    },
    "papermill": {
     "duration": 0.018819,
     "end_time": "2021-08-16T22:10:26.241125",
     "exception": false,
     "start_time": "2021-08-16T22:10:26.222306",
     "status": "completed"
    },
    "tags": []
   },
   "outputs": [],
   "source": [
    "def get_mae(max_leaf_nodes, train_X, val_X, train_y, val_y):\n",
    "    model = DecisionTreeRegressor(max_leaf_nodes=max_leaf_nodes, random_state=0)\n",
    "    model.fit(train_X, train_y)\n",
    "    preds_val = model.predict(val_X)\n",
    "    mae = mean_absolute_error(val_y, preds_val)\n",
    "    return(mae)"
   ]
  },
  {
   "cell_type": "markdown",
   "id": "3f1ec2ae",
   "metadata": {
    "papermill": {
     "duration": 0.010122,
     "end_time": "2021-08-16T22:10:26.261995",
     "exception": false,
     "start_time": "2021-08-16T22:10:26.251873",
     "status": "completed"
    },
    "tags": []
   },
   "source": [
    "## Step 1: Compare Different Tree Sizes\n",
    "Write a loop that tries the following values for *max_leaf_nodes* from a set of possible values.\n",
    "\n",
    "Call the *get_mae* function on each value of max_leaf_nodes. Store the output in some way that allows you to select the value of `max_leaf_nodes` that gives the most accurate model on your data."
   ]
  },
  {
   "cell_type": "code",
   "execution_count": 3,
   "id": "08fe6af0",
   "metadata": {
    "execution": {
     "iopub.execute_input": "2021-08-16T22:10:26.285800Z",
     "iopub.status.busy": "2021-08-16T22:10:26.285149Z",
     "iopub.status.idle": "2021-08-16T22:10:26.438547Z",
     "shell.execute_reply": "2021-08-16T22:10:26.436952Z",
     "shell.execute_reply.started": "2021-08-16T21:53:57.918335Z"
    },
    "papermill": {
     "duration": 0.166318,
     "end_time": "2021-08-16T22:10:26.438849",
     "exception": true,
     "start_time": "2021-08-16T22:10:26.272531",
     "status": "failed"
    },
    "tags": []
   },
   "outputs": [
    {
     "name": "stdout",
     "output_type": "stream",
     "text": [
      "Candidate: 5 \t Acurracy: 35044\n",
      "Candidate: 25 \t Acurracy: 29016\n",
      "Candidate: 50 \t Acurracy: 27405\n",
      "Candidate: 100 \t Acurracy: 27282\n",
      "Candidate: 250 \t Acurracy: 27893\n",
      "Candidate: 500 \t Acurracy: 29454\n"
     ]
    },
    {
     "ename": "TypeError",
     "evalue": "'numpy.float64' object is not iterable",
     "output_type": "error",
     "traceback": [
      "\u001b[0;31m---------------------------------------------------------------------------\u001b[0m",
      "\u001b[0;31mTypeError\u001b[0m                                 Traceback (most recent call last)",
      "\u001b[0;32m<ipython-input-3-5d479fe39b71>\u001b[0m in \u001b[0;36m<module>\u001b[0;34m\u001b[0m\n\u001b[1;32m      6\u001b[0m \u001b[0;34m\u001b[0m\u001b[0m\n\u001b[1;32m      7\u001b[0m \u001b[0;31m# Store the best value of max_leaf_nodes (it will be either 5, 25, 50, 100, 250 or 500)\u001b[0m\u001b[0;34m\u001b[0m\u001b[0;34m\u001b[0m\u001b[0;34m\u001b[0m\u001b[0m\n\u001b[0;32m----> 8\u001b[0;31m \u001b[0mbest_tree_size\u001b[0m \u001b[0;34m=\u001b[0m \u001b[0mmin\u001b[0m\u001b[0;34m(\u001b[0m\u001b[0mmy_mae\u001b[0m\u001b[0;34m)\u001b[0m\u001b[0;34m\u001b[0m\u001b[0;34m\u001b[0m\u001b[0m\n\u001b[0m\u001b[1;32m      9\u001b[0m \u001b[0;34m\u001b[0m\u001b[0m\n\u001b[1;32m     10\u001b[0m \u001b[0;31m# Check your answer\u001b[0m\u001b[0;34m\u001b[0m\u001b[0;34m\u001b[0m\u001b[0;34m\u001b[0m\u001b[0m\n",
      "\u001b[0;31mTypeError\u001b[0m: 'numpy.float64' object is not iterable"
     ]
    }
   ],
   "source": [
    "candidate_max_leaf_nodes = [5, 25, 50, 100, 250, 500]\n",
    "# Write loop to find the ideal tree size from candidate_max_leaf_nodes\n",
    "for leaf in candidate_max_leaf_nodes:\n",
    "    my_mae = get_mae(leaf,train_X,val_X, train_y, val_y)\n",
    "    print(\"Candidate: %d \\t Acurracy: %d\"%(leaf, my_mae))\n",
    "\n",
    "# Store the best value of max_leaf_nodes (it will be either 5, 25, 50, 100, 250 or 500)\n",
    "best_tree_size = min(my_mae)\n",
    "\n",
    "# Check your answer\n",
    "step_1.check()"
   ]
  },
  {
   "cell_type": "code",
   "execution_count": null,
   "id": "eda86b17",
   "metadata": {
    "execution": {
     "iopub.execute_input": "2021-08-16T21:56:25.630766Z",
     "iopub.status.busy": "2021-08-16T21:56:25.630404Z",
     "iopub.status.idle": "2021-08-16T21:56:25.684659Z",
     "shell.execute_reply": "2021-08-16T21:56:25.683749Z",
     "shell.execute_reply.started": "2021-08-16T21:56:25.630736Z"
    },
    "papermill": {
     "duration": null,
     "end_time": null,
     "exception": null,
     "start_time": null,
     "status": "pending"
    },
    "tags": []
   },
   "outputs": [],
   "source": [
    "scores = {leaf_size: get_mae(leaf_size, train_X, val_X, train_y, val_y) for leaf_size in candidate_max_leaf_nodes}\n",
    "best_tree_size = min(scores, key=scores.get)\n",
    "best_tree_size"
   ]
  },
  {
   "cell_type": "markdown",
   "id": "9e9f4990",
   "metadata": {
    "papermill": {
     "duration": null,
     "end_time": null,
     "exception": null,
     "start_time": null,
     "status": "pending"
    },
    "tags": []
   },
   "source": [
    "## Step 2: Fit Model Using All Data\n",
    "You know the best tree size. If you were going to deploy this model in practice, you would make it even more accurate by using all of the data and keeping that tree size.  That is, you don't need to hold out the validation data now that you've made all your modeling decisions."
   ]
  },
  {
   "cell_type": "code",
   "execution_count": null,
   "id": "d922f034",
   "metadata": {
    "execution": {
     "iopub.execute_input": "2021-08-16T22:01:14.529400Z",
     "iopub.status.busy": "2021-08-16T22:01:14.529047Z",
     "iopub.status.idle": "2021-08-16T22:01:14.546128Z",
     "shell.execute_reply": "2021-08-16T22:01:14.545394Z",
     "shell.execute_reply.started": "2021-08-16T22:01:14.529367Z"
    },
    "papermill": {
     "duration": null,
     "end_time": null,
     "exception": null,
     "start_time": null,
     "status": "pending"
    },
    "tags": []
   },
   "outputs": [],
   "source": [
    "# Fill in argument to make optimal size and uncomment\n",
    "final_model = DecisionTreeRegressor(max_leaf_nodes=100, random_state=1)\n",
    "\n",
    "# fit the final model \n",
    "final_model.fit(X,y)\n",
    "\n"
   ]
  },
  {
   "cell_type": "code",
   "execution_count": null,
   "id": "21196900",
   "metadata": {
    "execution": {
     "iopub.execute_input": "2021-08-16T21:59:40.814413Z",
     "iopub.status.busy": "2021-08-16T21:59:40.814074Z",
     "iopub.status.idle": "2021-08-16T21:59:40.822430Z",
     "shell.execute_reply": "2021-08-16T21:59:40.821387Z",
     "shell.execute_reply.started": "2021-08-16T21:59:40.814385Z"
    },
    "papermill": {
     "duration": null,
     "end_time": null,
     "exception": null,
     "start_time": null,
     "status": "pending"
    },
    "tags": []
   },
   "outputs": [],
   "source": []
  },
  {
   "cell_type": "markdown",
   "id": "4dce63b1",
   "metadata": {
    "papermill": {
     "duration": null,
     "end_time": null,
     "exception": null,
     "start_time": null,
     "status": "pending"
    },
    "tags": []
   },
   "source": [
    "---\n",
    "\n",
    "\n",
    "\n",
    "\n",
    "*Have questions or comments? Visit the [Learn Discussion forum](https://www.kaggle.com/learn-forum/161285) to chat with other Learners.*"
   ]
  }
 ],
 "metadata": {
  "kernelspec": {
   "display_name": "Python 3",
   "language": "python",
   "name": "python3"
  },
  "language_info": {
   "codemirror_mode": {
    "name": "ipython",
    "version": 3
   },
   "file_extension": ".py",
   "mimetype": "text/x-python",
   "name": "python",
   "nbconvert_exporter": "python",
   "pygments_lexer": "ipython3",
   "version": "3.8.8"
  },
  "papermill": {
   "default_parameters": {},
   "duration": 10.480477,
   "end_time": "2021-08-16T22:10:27.160672",
   "environment_variables": {},
   "exception": true,
   "input_path": "__notebook__.ipynb",
   "output_path": "__notebook__.ipynb",
   "parameters": {},
   "start_time": "2021-08-16T22:10:16.680195",
   "version": "2.3.3"
  }
 },
 "nbformat": 4,
 "nbformat_minor": 5
}
